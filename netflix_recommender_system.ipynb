{
 "cells": [
  {
   "cell_type": "markdown",
   "source": [
    "# Netflix Challange\n",
    "\n",
    "### Imports"
   ],
   "metadata": {
    "collapsed": false
   }
  },
  {
   "cell_type": "code",
   "execution_count": 18,
   "metadata": {
    "collapsed": true
   },
   "outputs": [],
   "source": [
    "import pandas as pd\n",
    "from surprise import SVD, SVDpp, Reader, Dataset\n",
    "from surprise.model_selection import GridSearchCV"
   ]
  },
  {
   "cell_type": "markdown",
   "source": [
    "### Read data from files"
   ],
   "metadata": {
    "collapsed": false
   }
  },
  {
   "cell_type": "code",
   "execution_count": 13,
   "outputs": [],
   "source": [
    "movies = pd.read_csv(\"resources/movies.csv\", delimiter=\";\", escapechar=\"\\\\\", index_col=\"ID\")\n",
    "users = pd.read_csv(\"resources/users.csv\", delimiter=\";\", index_col=\"ID\")\n",
    "ratings = pd.read_csv(\"resources/ratings.csv\", delimiter=\";\", dtype= str)\n",
    "predictions = pd.read_csv(\"resources/predictions.csv\", delimiter=\";\", dtype= str)"
   ],
   "metadata": {
    "collapsed": false
   }
  },
  {
   "cell_type": "markdown",
   "source": [
    "### Transform train data to have correct format"
   ],
   "metadata": {
    "collapsed": false
   }
  },
  {
   "cell_type": "code",
   "execution_count": 14,
   "outputs": [],
   "source": [
    "reader = Reader(rating_scale=(1, 5))\n",
    "\n",
    "data = Dataset.load_from_df(ratings[['UserID', \"MovieID\", \"Rating\"]], reader)\n",
    "trainset = data.build_full_trainset()"
   ],
   "metadata": {
    "collapsed": false
   }
  },
  {
   "cell_type": "markdown",
   "source": [
    "### Using GridSearch to improve hyper parameter `n_factors`"
   ],
   "metadata": {
    "collapsed": false
   }
  },
  {
   "cell_type": "code",
   "execution_count": 52,
   "outputs": [],
   "source": [
    "params = {'n_factors': range(10, 130, 10), 'n_epochs': [24], 'lr_all':[0.0044] }\n",
    "gridSearch = GridSearchCV(SVD, params, measures=['RMSE'], cv=3)\n",
    "gridSearch.fit(data)"
   ],
   "metadata": {
    "collapsed": false
   }
  },
  {
   "cell_type": "markdown",
   "source": [
    "The above gave n_factors: 30. Since the steps were quite large, we will do another tuning with smaller steps"
   ],
   "metadata": {
    "collapsed": false
   }
  },
  {
   "cell_type": "code",
   "execution_count": null,
   "outputs": [],
   "source": [
    "params = {'n_factors': range(20, 40, 1), 'n_epochs': [24], 'lr_all':[0.0044] }\n",
    "gridSearch = GridSearchCV(SVD, params, measures=['RMSE'], cv=3)\n",
    "gridSearch.fit(data)"
   ],
   "metadata": {
    "collapsed": false
   }
  },
  {
   "cell_type": "markdown",
   "source": [
    "The above gave n_factors: 35"
   ],
   "metadata": {
    "collapsed": false
   }
  },
  {
   "cell_type": "markdown",
   "source": [
    "### Using GridSearch to improve hyper parameter `n_epochs`"
   ],
   "metadata": {
    "collapsed": false
   }
  },
  {
   "cell_type": "code",
   "execution_count": 44,
   "outputs": [],
   "source": [
    "params = {'n_epochs': range(5, 25, 5), 'n_factors': [35]}\n",
    "gridSearch = GridSearchCV(SVD, params, measures=['RMSE'], cv=3)\n",
    "gridSearch.fit(data)"
   ],
   "metadata": {
    "collapsed": false
   }
  },
  {
   "cell_type": "markdown",
   "source": [
    "The above gave n_epochs: 20. Since the steps were quite large, we will do another tuning with smaller steps"
   ],
   "metadata": {
    "collapsed": false
   }
  },
  {
   "cell_type": "code",
   "execution_count": null,
   "outputs": [],
   "source": [
    "params = {'n_epochs': range(18, 25, 1), 'n_factors': [35]}\n",
    "gridSearch = GridSearchCV(SVD, params, measures=['RMSE'], cv=3)\n",
    "gridSearch.fit(data)"
   ],
   "metadata": {
    "collapsed": false
   }
  },
  {
   "cell_type": "markdown",
   "source": [
    "The above gave n_epochs: 24"
   ],
   "metadata": {
    "collapsed": false
   }
  },
  {
   "cell_type": "markdown",
   "source": [
    "### Using GridSearch to improve hyper parameter `lr_all=0.005`"
   ],
   "metadata": {
    "collapsed": false
   }
  },
  {
   "cell_type": "code",
   "execution_count": null,
   "outputs": [],
   "source": [
    "params = {'lr_all': [x / 1000 for x in range(1, 10, 1)], 'n_factors': [35], 'n_epochs': [24] }\n",
    "gridSearch = GridSearchCV(SVD, params, measures=['RMSE'], cv=3)\n",
    "gridSearch.fit(data)"
   ],
   "metadata": {
    "collapsed": false
   }
  },
  {
   "cell_type": "markdown",
   "source": [
    "The above gave lr_all: 0.005. Since the steps were quite large, we will do another tuning with smaller steps"
   ],
   "metadata": {
    "collapsed": false
   }
  },
  {
   "cell_type": "code",
   "execution_count": 50,
   "outputs": [],
   "source": [
    "params = {'lr_all': [x / 10000 for x in range(40, 45, 1)], 'n_factors': [35], 'n_epochs': [24] }\n",
    "gridSearch = GridSearchCV(SVD, params, measures=['RMSE'], cv=3)\n",
    "gridSearch.fit(data)"
   ],
   "metadata": {
    "collapsed": false
   }
  },
  {
   "cell_type": "markdown",
   "source": [
    "The above gave lr_all: 0.0044"
   ],
   "metadata": {
    "collapsed": false
   }
  },
  {
   "cell_type": "markdown",
   "source": [
    "### Get best parameters"
   ],
   "metadata": {
    "collapsed": false
   }
  },
  {
   "cell_type": "code",
   "execution_count": 53,
   "outputs": [
    {
     "name": "stdout",
     "output_type": "stream",
     "text": [
      "{'rmse': {'n_factors': 35, 'n_epochs': 24, 'lr_all': 0.0044}}\n"
     ]
    }
   ],
   "source": [
    "print(gridSearch.best_params)"
   ],
   "metadata": {
    "collapsed": false
   }
  },
  {
   "cell_type": "markdown",
   "source": [
    "### Best parameters\n",
    "To recap, we had the following best results from the ranges:\n",
    "n_factors: 30 from range(10, 130, 10), 35 from range(20, 40, 1)\n",
    "n_epochs: 20 from range(5, 25, 5), 24 from range(18, 25, 1)\n",
    "lr_all: 0.005 from range(0.001, 0.01, 0.001), 0.0044 from range(0.0040, 0.0055, 0.0001)\n",
    "So, final parameters used are:\n",
    "n_factors: 35, n_epochs: 24, lr_all: 0.0044"
   ],
   "metadata": {
    "collapsed": false
   }
  },
  {
   "cell_type": "markdown",
   "source": [
    "### Create an instance of SVDpp with the hyper parameters that were derived above and predict"
   ],
   "metadata": {
    "collapsed": false
   }
  },
  {
   "cell_type": "code",
   "execution_count": 54,
   "outputs": [],
   "source": [
    "svd = SVDpp(n_factors=35, n_epochs=24, lr_all=0.0044)\n",
    "svd.fit(trainset)\n",
    "recommendations = []\n",
    "\n",
    "for ind, rating in predictions.iterrows():\n",
    "   predict = svd.predict(rating['UserID'], rating['MovieID'])\n",
    "   recommendations.append([ind + 1, predict.est])"
   ],
   "metadata": {
    "collapsed": false
   }
  },
  {
   "cell_type": "markdown",
   "source": [
    "### Create CSV file with solution"
   ],
   "metadata": {
    "collapsed": false
   }
  },
  {
   "cell_type": "code",
   "execution_count": 55,
   "outputs": [
    {
     "name": "stdout",
     "output_type": "stream",
     "text": [
      "Done\n"
     ]
    }
   ],
   "source": [
    "predict_df = pd.DataFrame(recommendations, columns=['Id', 'Rating'])\n",
    "predict_df.to_csv('recommendations.csv', index=False)\n",
    "print('Done')"
   ],
   "metadata": {
    "collapsed": false
   }
  }
 ],
 "metadata": {
  "kernelspec": {
   "display_name": "Python 3",
   "language": "python",
   "name": "python3"
  },
  "language_info": {
   "codemirror_mode": {
    "name": "ipython",
    "version": 2
   },
   "file_extension": ".py",
   "mimetype": "text/x-python",
   "name": "python",
   "nbconvert_exporter": "python",
   "pygments_lexer": "ipython2",
   "version": "2.7.6"
  }
 },
 "nbformat": 4,
 "nbformat_minor": 0
}
